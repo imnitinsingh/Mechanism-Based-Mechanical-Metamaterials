{
 "cells": [
  {
   "cell_type": "code",
   "execution_count": 1,
   "metadata": {},
   "outputs": [
    {
     "data": {
      "text/plain": [
       "12×2 Array{Float64,2}:\n",
       " -4.85   3.74\n",
       " -2.0    7.4\n",
       "  2.38   5.89\n",
       "  6.55   1.56\n",
       "  5.11  -2.17\n",
       "  3.23  -5.95\n",
       " -3.72  -5.47\n",
       " -5.83  -4.46\n",
       " -1.28  -1.08\n",
       "  0.83   2.26\n",
       "  2.19  -1.08\n",
       "  1.11  -3.97"
      ]
     },
     "execution_count": 1,
     "metadata": {},
     "output_type": "execute_result"
    }
   ],
   "source": [
    "using CSV\n",
    "pts = CSV.read(\"C:\\\\Users\\\\Nitin.N.Singh\\\\Desktop\\\\RAUX\\\\Data\\\\pts.csv\", \n",
    "               header=false, delim=',')\n",
    "pts = Matrix{Float64}(pts)"
   ]
  },
  {
   "cell_type": "code",
   "execution_count": 6,
   "metadata": {},
   "outputs": [],
   "source": [
    "n = 3\n",
    "n_tiles = n^2\n",
    "n_conxn = Int((2*4  +  3*4*(n-2)  +  4*(n^2 - 4*(n-2) -4))/2);"
   ]
  },
  {
   "cell_type": "code",
   "execution_count": 7,
   "metadata": {},
   "outputs": [
    {
     "name": "stdout",
     "output_type": "stream",
     "text": [
      "Shape of SPV array is(24, 1)\n"
     ]
    }
   ],
   "source": [
    "#-----------------INITIALIZE THE POSITION VECTOR OF THE PARTICLES-----\n",
    "#-----------------centroid calculation-----\n",
    "SPV = zeros(Float64, 3*(n_tiles - 1), 1)\n",
    "println(\"Shape of SPV array is\", size(SPV))\n",
    "\n",
    "SPV[1],  SPV[2]   = (pts[1,:]+pts[2,:])/2;                      SPV[3]  = 0\n",
    "SPV[4],  SPV[5]   = (pts[2,:]+pts[3,:]+pts[10,:])/3;            SPV[6]  = 0                            \n",
    "SPV[7],  SPV[8]   = (pts[3,:]+pts[4,:])/2;                      SPV[9]  = 0\n",
    "SPV[10],  SPV[11] = (pts[1,:]+pts[8,:]+pts[9,:])/3;             SPV[12] = 0    \n",
    "SPV[13], SPV[14]  = (pts[9,:]+pts[10,:]+pts[11,:]+pts[12,:])/4; SPV[15] = 0    \n",
    "SPV[16], SPV[17]  = (pts[3,:]+pts[5,:]+pts[11,:])/3;            SPV[18] = 0 \n",
    "SPV[19], SPV[20]  = (pts[7,:]+pts[8,:])/2;                      SPV[21] = 0\n",
    "SPV[22], SPV[23]  = (pts[6,:]+pts[7,:]+pts[12,:])/3;            SPV[24] = 0;"
   ]
  },
  {
   "cell_type": "code",
   "execution_count": 218,
   "metadata": {},
   "outputs": [
    {
     "data": {
      "text/plain": [
       "6.018333163787067"
      ]
     },
     "execution_count": 218,
     "metadata": {},
     "output_type": "execute_result"
    }
   ],
   "source": [
    "#~~~~~~~~~~~~~~~~~~~~~~~~~~~~~~~~~~~~~~~~~~~~~~~~~~~~~~~~~~~~~~~~~~~~~~~~~~~~~~~~~~~~~~~~~~~~~~~~~~~~~~~~~~~~~~~~~~~~~~~\n",
    "#~~~~~~~~~~~~~~~~~~~~~~~~~~~~~~~~~~~~~~~~~~~~~~~~~~~~~~~~~~~~~~~~~~~~~~~~~~~~~~~~~~~~~~~~~~~~~~~~~~~~~~~~~~~~~~~~~~~~~~~\n",
    "#------------------------------------ENCODE THE SHAPE INFO INTO ALL THE PARTICLES---------------------------------------\n",
    "#Fill the Shape Info in a np.array with shape (n**2, 4, 2) and randomize things a bit\"\"\"\n",
    "\n",
    "using Distances\n",
    "\n",
    "ShapeInfo = zeros(Float64, n_tiles - 1, 4, 2)\n",
    "\n",
    "ShapeInfo[1, 1, 1]  =  Euclidean()(pts[1,:], pts[2,:])/2; ShapeInfo[1, 2, 1] = Euclidean()(pts[1,:], pts[2,:])/2\n",
    "ShapeInfo[1, 3, 1]  =  Euclidean()(pts[1,:], pts[2,:])/2; ShapeInfo[1, 4, 1] = Euclidean()(pts[1,:], pts[2,:])/2 \n",
    "\n",
    "ShapeInfo[1, 1, 2]  =  if atan(pts[2,2] - SPV[2], pts[2,1] - SPV[1]) > 0 atan(pts[2,2] - SPV[2], pts[2,1] - SPV[1])  \n",
    "                            else 2*pi + atan(pts[2,2] - SPV[2], pts[2,1] - SPV[1]) end\n",
    "ShapeInfo[1, 2, 2]  =  if atan(pts[1,2] - SPV[2], pts[1,1] - SPV[1]) > 0 atan(pts[1,2] - SPV[2], pts[1,1] - SPV[1]) \n",
    "                            else 2*pi + atan(pts[1,2] - SPV[2], pts[1,1] - SPV[1]) end\n",
    "ShapeInfo[1, 3, 2]  =  ShapeInfo[1, 2, 2]\n",
    "ShapeInfo[1, 4, 2]  =  ShapeInfo[1, 1, 2]\n",
    "    \n",
    "    \n",
    "ShapeInfo[2, 1, 1] = Euclidean()(pts[2,1]-SPV[4], pts[2,2]-SPV[5]) \n",
    "ShapeInfo[2, 2, 1] = Euclidean()(pts[2,1]-SPV[4], pts[2,2]-SPV[5])\n",
    "ShapeInfo[2, 3, 1] = Euclidean()(pts[10,1]-SPV[4], pts[10,2]-SPV[5])\n",
    "ShapeInfo[2, 4, 1] = Euclidean()(pts[3,1]-SPV[4], pts[3,2]-SPV[4])\n",
    "\n",
    "ShapeInfo[2, 1, 2] = if atan(pts[2,2] - SPV[5], pts[2,1] - SPV[4]) > 0 atan(pts[2,2] - SPV[5], pts[2,1] - SPV[4]) \n",
    "                        else 2*pi + atan(pts[2,2] - SPV[5], pts[2,1] - SPV[4]) end\n",
    "ShapeInfo[2, 2, 2] = if atan(pts[2,2] - SPV[5], pts[2,1] - SPV[4]) > 0 atan(pts[2,2] - SPV[5], pts[2,1] - SPV[4])\n",
    "                        else 2*pi + atan(pts[2,2] - SPV[5], pts[2,1] - SPV[4]) end\n",
    "ShapeInfo[2, 3, 2] = if atan(pts[10,2] - SPV[5], pts[10,1] - SPV[4]) > 0 atan(pts[10,2] - SPV[5], pts[10,1] - SPV[4])\n",
    "                        else 2*pi + atan(pts[10,2] - SPV[5], pts[10,1] - SPV[4]) end\n",
    "ShapeInfo[2, 4, 2] = if atan(pts[3,2] - SPV[5], pts[3,1] - SPV[4]) > 0 atan(pts[3,2] - SPV[5], pts[3,1] - SPV[4])\n",
    "                        else 2*pi + atan(pts[3,2] - SPV[5], pts[3,1] - SPV[4]) end\n",
    "\n",
    "\n",
    "ShapeInfo[3, 1, 1] = Euclidean()(pts[3,:], pts[4,:])/2; ShapeInfo[3, 2, 1] = Euclidean()(pts[3,:], pts[4,:])/2\n",
    "ShapeInfo[3, 3, 1] = Euclidean()(pts[3,:], pts[4,:])/2; ShapeInfo[3, 4, 1] = Euclidean()(pts[3,:], pts[4,:])/2\n",
    "\n",
    "ShapeInfo[3, 1, 2] = if atan(pts[3,2] - SPV[8], pts[3,1] - SPV[7]) > 0 atan(pts[3,2] - SPV[8], pts[3,1] - SPV[7])\n",
    "                        else 2*pi + atan(pts[3,2] - SPV[8], pts[3,1] - SPV[7]) end\n",
    "ShapeInfo[3, 2, 2] = ShapeInfo[3, 1, 2]\n",
    "ShapeInfo[3, 3, 2] = if atan(pts[4,2] - SPV[8], pts[4,1] - SPV[7]) > 0 atan(pts[4,2] - SPV[8], pts[4,1] - SPV[7])\n",
    "                        else 2*pi + atan(pts[4,2] - SPV[8], pts[4,1] - SPV[7]) end\n",
    "ShapeInfo[3, 4, 2] = ShapeInfo[3, 3, 2]\n",
    "\n",
    "\n",
    "ShapeInfo[4, 1, 1] = Euclidean()(pts[1,1]-SPV[10], pts[1,2]-SPV[11]); ShapeInfo[4, 2, 1] = ShapeInfo[4, 1, 1]\n",
    "ShapeInfo[4, 3, 1] = Euclidean()(pts[8,1]-SPV[10], pts[8,2]-SPV[11])\n",
    "ShapeInfo[4, 4, 1] = Euclidean()(pts[9,1]-SPV[10], pts[9,2]-SPV[11])\n",
    "\n",
    "ShapeInfo[4, 1, 2] = if atan(pts[1,2] - SPV[11], pts[1,1] - SPV[10]) > 0 atan(pts[1,2] - SPV[11], pts[1,1] - SPV[10])\n",
    "                        else 2*pi + atan(pts[1,2] - SPV[11], pts[1,1] - SPV[10]) end\n",
    "ShapeInfo[4, 2, 2] = ShapeInfo[4, 1, 2]\n",
    "ShapeInfo[4, 3, 2] = if atan(pts[8,2] - SPV[11], pts[8,1] - SPV[10]) > 0 atan(pts[8,2] - SPV[11], pts[8,1] - SPV[10]) \n",
    "                        else 2*pi + atan(pts[8,2] - SPV[11], pts[8,1] - SPV[10]) end\n",
    "ShapeInfo[4, 4, 2] = if atan(pts[9,2] - SPV[11], pts[9,1] - SPV[10]) > 0 atan(pts[9,2] - SPV[11], pts[9,1] - SPV[10])\n",
    "                        else 2*pi + atan(pts[9,2] - SPV[11], pts[9,1] - SPV[10]) end\n",
    "\n",
    "\n",
    "ShapeInfo[5, 1, 1] = Euclidean()(pts[10,1]-SPV[13], pts[10,2]-SPV[14]) \n",
    "ShapeInfo[5, 2, 1] = Euclidean()(pts[9,1]-SPV[13], pts[9,2]-SPV[14])\n",
    "ShapeInfo[5, 3, 1] = Euclidean()(pts[12,1]-SPV[13], pts[12,2]-SPV[14])\n",
    "ShapeInfo[5, 4, 1] = Euclidean()(pts[11,1]-SPV[13], pts[11,2]-SPV[14])\n",
    "\n",
    "ShapeInfo[5, 1, 2] = if atan(pts[10,2] - SPV[14], pts[10,1] - SPV[13]) > 0 atan(pts[10,2] - SPV[14], pts[10,1] - SPV[13]) \n",
    "                        else 2*pi + atan(pts[10,2] - SPV[14], pts[10,1] - SPV[13]) end\n",
    "ShapeInfo[5, 2, 2] = if atan(pts[9,2] - SPV[14], pts[9,1] - SPV[13]) > 0 atan(pts[9,2] - SPV[14], pts[9,1] - SPV[13])\n",
    "                        else 2*pi + atan(pts[9,2] - SPV[14], pts[9,1] - SPV[13]) end\n",
    "ShapeInfo[5, 3, 2] = if atan(pts[12,2] - SPV[14], pts[12,1] - SPV[13]) > 0 atan(pts[12,2] - SPV[14], pts[12,1] - SPV[13])\n",
    "                        else 2*pi + atan(pts[12,2] - SPV[14], pts[12,1] - SPV[13]) end\n",
    "ShapeInfo[5, 4, 2] = if atan(pts[11,2] - SPV[14], pts[11,1] - SPV[13]) > 0 atan(pts[11,2] - SPV[14], pts[11,1] - SPV[13])\n",
    "                        else 2*pi + atan(pts[11,2] - SPV[14], pts[11,1] - SPV[13]) end \n",
    "\n",
    "\n",
    "ShapeInfo[6, 1, 1] = Euclidean()(pts[4,1]-SPV[16], pts[4,2]-SPV[17]) \n",
    "ShapeInfo[6, 2, 1] = Euclidean()(pts[11,1]-SPV[16], pts[11,2]-SPV[17])\n",
    "ShapeInfo[6, 3, 1] = Euclidean()(pts[5,1]-SPV[16], pts[5,2]-SPV[17])\n",
    "ShapeInfo[6, 4, 1] = ShapeInfo[6, 1, 1]\n",
    "\n",
    "ShapeInfo[6, 1, 2] = if atan(pts[4,2] - SPV[17], pts[4,1] - SPV[16]) > 0 atan(pts[4,2] - SPV[17], pts[4,1] - SPV[16])\n",
    "                        else 2*pi + atan(pts[4,2] - SPV[17], pts[4,1] - SPV[16]) end\n",
    "ShapeInfo[6, 2, 2] = if atan(pts[11,2] - SPV[17], pts[11,1] - SPV[16]) > 0 atan(pts[11,2] - SPV[17], pts[11,1] - SPV[16])\n",
    "                        else 2*pi + atan(pts[11,2] - SPV[17], pts[11,1] - SPV[16]) end\n",
    "ShapeInfo[6, 3, 2] = if atan(pts[5,2] - SPV[17], pts[5,1] - SPV[16]) > 0 atan(pts[5,2] - SPV[17], pts[5,1] - SPV[16]) \n",
    "                        else 2*pi + atan(pts[5,2] - SPV[17], pts[5,1] - SPV[16]) end \n",
    "ShapeInfo[6, 4, 2] = ShapeInfo[6, 1, 2]  \n",
    "\n",
    "\n",
    "ShapeInfo[7, 1, 1] = Euclidean()(pts[7,:], pts[8,:])/2 \n",
    "ShapeInfo[7, 2, 1] = ShapeInfo[7, 1, 1] \n",
    "ShapeInfo[7, 3, 1] = Euclidean()(pts[7,:], pts[8,:])/2\n",
    "ShapeInfo[7, 4, 1] = ShapeInfo[7, 3, 1]\n",
    "\n",
    "ShapeInfo[7, 1, 2] = if atan(pts[8,2] - SPV[20], pts[8,1] - SPV[19]) > 0 atan(pts[8,2] - SPV[20], pts[8,1] - SPV[19])\n",
    "                        else 2*pi + atan(pts[8,2] - SPV[20], pts[8,1] - SPV[19]) end\n",
    "ShapeInfo[7, 2, 2] = ShapeInfo[7, 1, 2]\n",
    "ShapeInfo[7, 3, 2] = if atan(pts[7,2] - SPV[20], pts[7,1] - SPV[19]) > 0 atan(pts[7,2] - SPV[20], pts[7,1] - SPV[19])\n",
    "                        else 2*pi + atan(pts[7,2] - SPV[20], pts[7,1] - SPV[19]) end\n",
    "ShapeInfo[7, 4, 2] = ShapeInfo[7, 3, 2] \n",
    "\n",
    "\n",
    "ShapeInfo[8, 1, 1] = Euclidean()(pts[12,1]-SPV[22], pts[12,2]-SPV[23]) \n",
    "ShapeInfo[8, 2, 1] = Euclidean()(pts[7,1]-SPV[22], pts[7,2]-SPV[23])\n",
    "ShapeInfo[8, 3, 1] = ShapeInfo[8, 2, 1]\n",
    "ShapeInfo[8, 4, 1] = Euclidean()(pts[6,1]-SPV[22], pts[6,2]-SPV[23])\n",
    "\n",
    "ShapeInfo[8, 1, 2] = if atan(pts[12,2] - SPV[23], pts[12,1] - SPV[22]) > 0 atan(pts[12,2] - SPV[23], pts[12,1] - SPV[22])\n",
    "                        else 2*pi + atan(pts[12,2] - SPV[23], pts[12,1] - SPV[22]) end\n",
    "ShapeInfo[8, 2, 2] = if atan(pts[7,2] - SPV[23], pts[7,1] - SPV[22]) > 0 atan(pts[7,2] - SPV[23], pts[7,1] - SPV[22]) \n",
    "                        else 2*pi + atan(pts[7,2] - SPV[23], pts[7,1] - SPV[22]) end \n",
    "ShapeInfo[8, 3, 2] = ShapeInfo[8, 2, 2] \n",
    "ShapeInfo[8, 4, 2] = if atan(pts[6,2] - SPV[23], pts[6,1] - SPV[22]) > 0 atan(pts[6,2] - SPV[23], pts[6,1] - SPV[22])\n",
    "                        else 2*pi + atan(pts[6,2] - SPV[23], pts[6,1] - SPV[22]) end "
   ]
  },
  {
   "cell_type": "code",
   "execution_count": 105,
   "metadata": {},
   "outputs": [
    {
     "data": {
      "text/plain": [
       "10×2 Array{Int64,2}:\n",
       " 1  2\n",
       " 2  3\n",
       " 4  5\n",
       " 5  6\n",
       " 7  8\n",
       " 1  4\n",
       " 4  7\n",
       " 2  5\n",
       " 5  8\n",
       " 3  6"
      ]
     },
     "execution_count": 105,
     "metadata": {},
     "output_type": "execute_result"
    }
   ],
   "source": [
    "CPM = zeros(Int, 10, 2)\n",
    "CPM[1,:] = [1,2]\n",
    "CPM[2,:] = [2,3]\n",
    "CPM[3,:] = [4,5]\n",
    "CPM[4,:] = [5,6]\n",
    "CPM[5,:] = [7,8]\n",
    "CPM[6,:] = [1,4]\n",
    "CPM[7,:] = [4,7]\n",
    "CPM[8,:] = [2,5]\n",
    "CPM[9,:] = [5,8]\n",
    "CPM[10,:] = [3,6]\n",
    "CPM"
   ]
  },
  {
   "cell_type": "code",
   "execution_count": 190,
   "metadata": {},
   "outputs": [],
   "source": [
    "BCPM2D =  zeros(Bool, 10, 24)\n",
    "BCPM3D =  zeros(Bool, 10, 24, 24)\n",
    "\n",
    "for i = 1:10\n",
    "    BCPM2D[i, 3*CPM[i,1]-2:3*CPM[i,1]] .= true  \n",
    "    BCPM2D[i, 3*CPM[i,2]-2:3*CPM[i,2]] .= true\n",
    "end     \n",
    "\n",
    "for i = 1:10\n",
    "    BCPM3D[i, 3*CPM[i,1]-2:3*CPM[i,1], 3*CPM[i,1]-2:3*CPM[i,1]] .= true  \n",
    "    BCPM3D[i, 3*CPM[i,2]-2:3*CPM[i,2], 3*CPM[i,2]-2:3*CPM[i,2]] .= true \n",
    "    BCPM3D[i, 3*CPM[i,1]-2:3*CPM[i,1], 3*CPM[i,2]-2:3*CPM[i,2]] .= true\n",
    "    BCPM3D[i, 3*CPM[i,2]-2:3*CPM[i,2], 3*CPM[i,1]-2:3*CPM[i,1]] .= true\n",
    "end\n"
   ]
  },
  {
   "cell_type": "code",
   "execution_count": 107,
   "metadata": {},
   "outputs": [
    {
     "data": {
      "text/plain": [
       "10×2 Array{Int64,2}:\n",
       " 3  1\n",
       " 3  1\n",
       " 3  1\n",
       " 3  1\n",
       " 3  1\n",
       " 2  0\n",
       " 2  0\n",
       " 2  0\n",
       " 2  0\n",
       " 2  0"
      ]
     },
     "execution_count": 107,
     "metadata": {},
     "output_type": "execute_result"
    }
   ],
   "source": [
    "#--------------------------------ENCODE WHICH CORNERS ARE CONNECTED IN A CONNECTION-------------------------------------\n",
    "# A row of ConnectedCornersMatrix(CCM) tells the Corner Number of the Polygon that share the Connection'''\n",
    "\n",
    "CCM = zeros(Int, 10,2)        \n",
    "CCM[1,:] = CCM[2,:] = CCM[3,:] = CCM[4,:] = CCM[5,:]  = [3, 1]\n",
    "CCM[6,:] = CCM[7,:] = CCM[8,:] = CCM[9,:] = CCM[10,:] = [2, 0]\n",
    "CCM"
   ]
  },
  {
   "cell_type": "code",
   "execution_count": 229,
   "metadata": {},
   "outputs": [
    {
     "data": {
      "text/plain": [
       "Jacobian (generic function with 1 method)"
      ]
     },
     "execution_count": 229,
     "metadata": {},
     "output_type": "execute_result"
    }
   ],
   "source": [
    "function Jacobian(X1, Y1, Theta1, LenVec1, Phi1, X2, Y2, Theta2, LenVec2, Phi2, BCPM2D_)\n",
    "    \n",
    "    FDV = zeros(Float64, 10, 6)\n",
    "    \n",
    "    FDV[:, 1]     =  2*X1 - 2*X2 + 2*LenVec1*cos(Theta1 + Phi1) - 2*LenVec2*cos(Theta2 + Phi2)\n",
    "                                                                           \n",
    "    FDV[:, 2]     =  2*Y1 - 2*Y2 + 2*LenVec1*sin(Theta1 + Phi1) - 2*LenVec2*sin(Theta2 + Phi2)\n",
    "\n",
    "    FDV[:, 3]     =  2*LenVec1*(-X1 + X2 - LenVec1*cos(Theta1 + Phi1) + LenVec2*cos(Theta2 + Phi2))*sin(Theta1 + Phi1) - \n",
    "                              2*LenVec1*(-Y1 + Y2 - LenVec1*sin(Theta1 + Phi1) + LenVec2*sin(Theta2 + Phi2))*cos(Theta1 + Phi1)\n",
    "\n",
    "    FDV[:, 4]     =  -2*X1 + 2*X2 - 2*LenVec1*cos(Theta1 + Phi1) + 2*LenVec2*cos(Theta2 + Phi2)\n",
    "\n",
    "    FDV[:, 5]     =  -2*Y1 + 2*Y2 - 2*LenVec1*sin(Theta1 + Phi1) + 2*LenVec2*sin(Theta2 + Phi2)\n",
    "\n",
    "    FDV[:, 6]     =  -2*LenVec2*(-X1 + X2 - LenVec1*cos(Theta1 + Phi1) + LenVec2*cos(Theta2 + Phi2))*sin(Theta2 + Phi2) + \n",
    "                              2*LenVec2*(-Y1 + Y2 - LenVec1*sin(Theta1 + Phi1) + LenVec2*sin(Theta2 + Phi2))*cos(Theta2 + Phi2) \n",
    "    \n",
    "    (FDV_ = zeros(eltype(FDV),size(BCPM2D_)))'[BCPM2D_'[:]] .= FDV'[:]\n",
    "    FDV_ = sum(FDV_, dims=1)\n",
    "    FDV_ = reshape(FDV_, 24,1)\n",
    "    \n",
    "    FDV_[6,0]  = 0.0\n",
    "    FDV_[13,0] = 0.0\n",
    "    FDV_[14,0] = 0.0 \n",
    "    FDV_[15,0] = 0.0 \n",
    "    \n",
    "    \n",
    "    return(FDV_)\n",
    "end"
   ]
  },
  {
   "cell_type": "code",
   "execution_count": 148,
   "metadata": {},
   "outputs": [
    {
     "data": {
      "text/plain": [
       "10×6 Array{Float64,2}:\n",
       " 0.24863    0.904522   0.641744   0.269998  0.539076   0.827586\n",
       " 0.816989   0.676292   0.353072   0.107349  0.292065   0.270477\n",
       " 0.213719   0.0403233  0.736229   0.954728  0.0394125  0.51408\n",
       " 0.613171   0.450083   0.904408   0.103758  0.569779   0.570108\n",
       " 0.903802   0.785442   0.204137   0.824856  0.324141   0.823483\n",
       " 0.0845306  0.445171   0.238602   0.638132  0.283847   0.307447\n",
       " 0.729651   0.2834     0.123298   0.509706  0.875647   0.357959\n",
       " 0.474913   0.386436   0.157821   0.961704  0.691747   0.816986\n",
       " 0.3858     0.466281   0.0346271  0.369279  0.773794   0.0619065\n",
       " 0.867237   0.802721   0.126813   0.322988  0.18606    0.728934"
      ]
     },
     "execution_count": 148,
     "metadata": {},
     "output_type": "execute_result"
    }
   ],
   "source": [
    "def Hessian(X1, Y1, Theta1, LenVec1, Phi1, X2, Y2, Theta2, LenVec2, Phi2, BCPM3D_):\n",
    "    #\"\"\"Fill the appropriate elements of SDM by considering every connection in the network one by one. Derivatives \n",
    "    #are calculated analytically.\"\"\"\n",
    "    \n",
    "    SDM  = zeros(Float64, 10, 6, 6)      \n",
    "\n",
    "    SDM[:,1,1]   +=  2.0 \n",
    "    SDM[:,2,2]   +=  2.0\n",
    "    SDM[:,4,4]   +=  2.0\n",
    "    SDM[:,5,5]   +=  2.0\n",
    "\n",
    "    SDM[:,1,2]   += -2.0               \n",
    "    SDM[:,4,1]   += -2.0\n",
    "    SDM[:,2,5]   += -2.0 \n",
    "    SDM[:,5,2]   += -2.0\n",
    "\n",
    "    SDM[:,1,2] = SDM[:,2,1] = SDM[:,1,5] = SDM[:,5,1] = 0.0\n",
    "    SDM[:,2,4] = SDM[:,4,2] = SDM[:,4,5] = SDM[:,5,4] = 0.0\n",
    "\n",
    "    self.SDM[:,0,2]   += -2*LenVec1*sin(Theta1 + Phi1)\n",
    "    self.SDM[:,2,0]   += -2*LenVec1*sin(Theta1 + Phi1) \n",
    "    self.SDM[:,0,5]   +=  2*LenVec2*sin(Theta2 + Phi2)\n",
    "    self.SDM[:,5,0]   +=  2*LenVec2*sin(Theta2 + Phi2)\n",
    "    self.SDM[:,1,2]   +=  2*LenVec1*cos(Theta1 + Phi1)\n",
    "    self.SDM[:,2,1]   +=  2*LenVec1*cos(Theta1 + Phi1) \n",
    "    self.SDM[:,1,5]   += -2*LenVec2*cos(Theta2 + Phi2)\n",
    "    self.SDM[:,5,1]   += -2*LenVec2*cos(Theta2 + Phi2) \n",
    "\n",
    "    self.SDM[:,2,2]    +=   2*LenVec1*(LenVec1*sin(Theta1 + Phi1)**2 + LenVec1*cos(Theta1 + Phi1)**2 - (X1 - X2 + \\\n",
    "                            LenVec1*cos(Theta1 + Phi1)- LenVec2*cos(Theta2 + Phi2))*cos(Theta1 + Phi1) - (Y1 - Y2 +\\\n",
    "                            LenVec1*sin(Theta1 + Phi1) - LenVec2*sin(Theta2 + Phi2))*sin(Theta1 + Phi1))\n",
    "\n",
    "    self.SDM[:,2,3]    +=  2*LenVec1*sin(Theta1 + Phi1)\n",
    "    self.SDM[:,3,2]    +=  2*LenVec1*sin(Theta1 + Phi1) \n",
    "    self.SDM[:,2,4]    += -2*LenVec1*cos(Theta1 + Phi1)\n",
    "    self.SDM[:,4,2]    += -2*LenVec1*cos(Theta1 + Phi1)\n",
    "\n",
    "    self.SDM[:,2,5]    += -2*LenVec1*LenVec2*(sin(Theta1+Phi1)*sin(Theta2+Phi2) + cos(Theta1+Phi1)*cos(Theta2+Phi2))\n",
    "    self.SDM[:,5,2]    += -2*LenVec1*LenVec2*(sin(Theta1+Phi1)*sin(Theta2+Phi2) + cos(Theta1+Phi1)*cos(Theta2+Phi2))\n",
    "\n",
    "    self.SDM[:,3,5]    += -2*LenVec2*sin(Theta2 + Phi2) \n",
    "    self.SDM[:,5,3]    += -2*LenVec2*sin(Theta2 + Phi2) \n",
    "    self.SDM[:,4,5]    +=  2*LenVec2*cos(Theta2 + Phi2)\n",
    "    self.SDM[:,5,4]    +=  2*LenVec2*cos(Theta2 + Phi2)\n",
    "\n",
    "    self.SDM[:,5,5]    +=  2*LenVec2*(LenVec2*sin(Theta2 + Phi2)**2 + LenVec2*cos(Theta2 + Phi2)**2 + (X1 - X2 +\\\n",
    "                             LenVec1*cos(Theta1 + Phi1)- LenVec2*cos(Theta2 + Phi2))*cos(Theta2 + Phi2) + (Y1 - Y2\\\n",
    "                             + LenVec1*sin(Theta1 + Phi1) -LenVec2*sin(Theta2 + Phi2))*sin(Theta2 + Phi2))\n",
    "\n",
    "    self.SDM = self.SDM.flatten()[(np.cumsum(self.BCPM3D).reshape(self.BCPM3D.shape)-1)*self.BCPM3D] * self.BCPM3D  \n",
    "    #self.SDM = self.SDM.flatten()[(np.cumsum(self.BCPM3D).reshape(self.BCPM3D.shape)-1)] * self.BCPM3D \n",
    "    self.SDM = np.sum(self.SDM, axis = 0)\n",
    "\n",
    "    self.SDM[5, :] = self.SDM[:, 5] = 0.0\n",
    "    self.SDM[14, :] = self.SDM[:, 14] = 0.0\n",
    "    self.SDM[12, :] = self.SDM[:, 12] = 0.0; self.SDM[13, :] = self.SDM[:, 13] = 0.0 \n",
    "    return self.SDM"
   ]
  },
  {
   "cell_type": "code",
   "execution_count": 151,
   "metadata": {},
   "outputs": [
    {
     "ename": "BoundsError",
     "evalue": "BoundsError: attempt to access 24×10 LinearAlgebra.Adjoint{Float64,Array{Float64,2}} at index [[1, 1, 1, 1, 1, 1, 0, 0, 0, 0, 0, 0, 0, 0, 0, 0, 0, 0, 0, 0, 0, 0, 0, 0, 0, 0, 0, 1, 1, 1, 1, 1, 1, 0, 0, 0, 0, 0, 0, 0, 0, 0, 0, 0, 0, 0, 0, 0, 0, 0, 0, 0, 0, 0, 0, 0, 0, 1, 1, 1, 1, 1, 1, 0, 0, 0, 0, 0, 0, 0, 0, 0, 0, 0, 0, 0, 0, 0, 0, 0, 0, 0, 0, 0, 1, 1, 1, 1, 1, 1, 0, 0, 0, 0, 0, 0, 0, 0, 0, 0, 0, 0, 0, 0, 0, 0, 0, 0, 0, 0, 0, 0, 0, 0, 1, 1, 1, 1, 1, 1, 1, 1, 1, 0, 0, 0, 0, 0, 0, 1, 1, 1, 0, 0, 0, 0, 0, 0, 0, 0, 0, 0, 0, 0, 0, 0, 0, 0, 0, 0, 0, 0, 0, 1, 1, 1, 0, 0, 0, 0, 0, 0, 1, 1, 1, 0, 0, 0, 0, 0, 0, 1, 1, 1, 0, 0, 0, 0, 0, 0, 1, 1, 1, 0, 0, 0, 0, 0, 0, 0, 0, 0, 0, 0, 0, 0, 0, 0, 0, 0, 0, 0, 0, 0, 1, 1, 1, 0, 0, 0, 0, 0, 0, 1, 1, 1, 0, 0, 0, 0, 0, 0, 1, 1, 1, 0, 0, 0, 0, 0, 0, 1, 1, 1, 0, 0, 0, 0, 0, 0]]",
     "output_type": "error",
     "traceback": [
      "BoundsError: attempt to access 24×10 LinearAlgebra.Adjoint{Float64,Array{Float64,2}} at index [[1, 1, 1, 1, 1, 1, 0, 0, 0, 0, 0, 0, 0, 0, 0, 0, 0, 0, 0, 0, 0, 0, 0, 0, 0, 0, 0, 1, 1, 1, 1, 1, 1, 0, 0, 0, 0, 0, 0, 0, 0, 0, 0, 0, 0, 0, 0, 0, 0, 0, 0, 0, 0, 0, 0, 0, 0, 1, 1, 1, 1, 1, 1, 0, 0, 0, 0, 0, 0, 0, 0, 0, 0, 0, 0, 0, 0, 0, 0, 0, 0, 0, 0, 0, 1, 1, 1, 1, 1, 1, 0, 0, 0, 0, 0, 0, 0, 0, 0, 0, 0, 0, 0, 0, 0, 0, 0, 0, 0, 0, 0, 0, 0, 0, 1, 1, 1, 1, 1, 1, 1, 1, 1, 0, 0, 0, 0, 0, 0, 1, 1, 1, 0, 0, 0, 0, 0, 0, 0, 0, 0, 0, 0, 0, 0, 0, 0, 0, 0, 0, 0, 0, 0, 1, 1, 1, 0, 0, 0, 0, 0, 0, 1, 1, 1, 0, 0, 0, 0, 0, 0, 1, 1, 1, 0, 0, 0, 0, 0, 0, 1, 1, 1, 0, 0, 0, 0, 0, 0, 0, 0, 0, 0, 0, 0, 0, 0, 0, 0, 0, 0, 0, 0, 0, 1, 1, 1, 0, 0, 0, 0, 0, 0, 1, 1, 1, 0, 0, 0, 0, 0, 0, 1, 1, 1, 0, 0, 0, 0, 0, 0, 1, 1, 1, 0, 0, 0, 0, 0, 0]]",
      "",
      "Stacktrace:",
      " [1] throw_boundserror(::LinearAlgebra.Adjoint{Float64,Array{Float64,2}}, ::Tuple{Array{Int64,1}}) at .\\abstractarray.jl:537",
      " [2] checkbounds at .\\abstractarray.jl:502 [inlined]",
      " [3] view at .\\subarray.jl:163 [inlined]",
      " [4] maybeview at .\\views.jl:124 [inlined]",
      " [5] dotview(::LinearAlgebra.Adjoint{Float64,Array{Float64,2}}, ::Array{Int64,1}) at .\\broadcast.jl:1138",
      " [6] top-level scope at In[151]:1"
     ]
    }
   ],
   "source": [
    "(M2 = zeros(eltype(M1),size(BCPM2D)))'[BCPM2D'[:]] .= M1'[:]"
   ]
  },
  {
   "cell_type": "code",
   "execution_count": 152,
   "metadata": {},
   "outputs": [
    {
     "ename": "BoundsError",
     "evalue": "BoundsError: attempt to access 24×10 LinearAlgebra.Adjoint{Float64,Array{Float64,2}} at index [[1, 1, 1, 1, 1, 1, 0, 0, 0, 0, 0, 0, 0, 0, 0, 0, 0, 0, 0, 0, 0, 0, 0, 0, 0, 0, 0, 1, 1, 1, 1, 1, 1, 0, 0, 0, 0, 0, 0, 0, 0, 0, 0, 0, 0, 0, 0, 0, 0, 0, 0, 0, 0, 0, 0, 0, 0, 1, 1, 1, 1, 1, 1, 0, 0, 0, 0, 0, 0, 0, 0, 0, 0, 0, 0, 0, 0, 0, 0, 0, 0, 0, 0, 0, 1, 1, 1, 1, 1, 1, 0, 0, 0, 0, 0, 0, 0, 0, 0, 0, 0, 0, 0, 0, 0, 0, 0, 0, 0, 0, 0, 0, 0, 0, 1, 1, 1, 1, 1, 1, 1, 1, 1, 0, 0, 0, 0, 0, 0, 1, 1, 1, 0, 0, 0, 0, 0, 0, 0, 0, 0, 0, 0, 0, 0, 0, 0, 0, 0, 0, 0, 0, 0, 1, 1, 1, 0, 0, 0, 0, 0, 0, 1, 1, 1, 0, 0, 0, 0, 0, 0, 1, 1, 1, 0, 0, 0, 0, 0, 0, 1, 1, 1, 0, 0, 0, 0, 0, 0, 0, 0, 0, 0, 0, 0, 0, 0, 0, 0, 0, 0, 0, 0, 0, 1, 1, 1, 0, 0, 0, 0, 0, 0, 1, 1, 1, 0, 0, 0, 0, 0, 0, 1, 1, 1, 0, 0, 0, 0, 0, 0, 1, 1, 1, 0, 0, 0, 0, 0, 0]]",
     "output_type": "error",
     "traceback": [
      "BoundsError: attempt to access 24×10 LinearAlgebra.Adjoint{Float64,Array{Float64,2}} at index [[1, 1, 1, 1, 1, 1, 0, 0, 0, 0, 0, 0, 0, 0, 0, 0, 0, 0, 0, 0, 0, 0, 0, 0, 0, 0, 0, 1, 1, 1, 1, 1, 1, 0, 0, 0, 0, 0, 0, 0, 0, 0, 0, 0, 0, 0, 0, 0, 0, 0, 0, 0, 0, 0, 0, 0, 0, 1, 1, 1, 1, 1, 1, 0, 0, 0, 0, 0, 0, 0, 0, 0, 0, 0, 0, 0, 0, 0, 0, 0, 0, 0, 0, 0, 1, 1, 1, 1, 1, 1, 0, 0, 0, 0, 0, 0, 0, 0, 0, 0, 0, 0, 0, 0, 0, 0, 0, 0, 0, 0, 0, 0, 0, 0, 1, 1, 1, 1, 1, 1, 1, 1, 1, 0, 0, 0, 0, 0, 0, 1, 1, 1, 0, 0, 0, 0, 0, 0, 0, 0, 0, 0, 0, 0, 0, 0, 0, 0, 0, 0, 0, 0, 0, 1, 1, 1, 0, 0, 0, 0, 0, 0, 1, 1, 1, 0, 0, 0, 0, 0, 0, 1, 1, 1, 0, 0, 0, 0, 0, 0, 1, 1, 1, 0, 0, 0, 0, 0, 0, 0, 0, 0, 0, 0, 0, 0, 0, 0, 0, 0, 0, 0, 0, 0, 1, 1, 1, 0, 0, 0, 0, 0, 0, 1, 1, 1, 0, 0, 0, 0, 0, 0, 1, 1, 1, 0, 0, 0, 0, 0, 0, 1, 1, 1, 0, 0, 0, 0, 0, 0]]",
      "",
      "Stacktrace:",
      " [1] throw_boundserror(::LinearAlgebra.Adjoint{Float64,Array{Float64,2}}, ::Tuple{Base.ReshapedArray{Int64,1,LinearAlgebra.Adjoint{Int64,Array{Int64,2}},Tuple{Base.MultiplicativeInverses.SignedMultiplicativeInverse{Int64}}}}) at .\\abstractarray.jl:537",
      " [2] checkbounds at .\\abstractarray.jl:502 [inlined]",
      " [3] view at .\\subarray.jl:163 [inlined]",
      " [4] maybeview at .\\views.jl:124 [inlined]",
      " [5] dotview(::LinearAlgebra.Adjoint{Float64,Array{Float64,2}}, ::Base.ReshapedArray{Int64,1,LinearAlgebra.Adjoint{Int64,Array{Int64,2}},Tuple{Base.MultiplicativeInverses.SignedMultiplicativeInverse{Int64}}}) at .\\broadcast.jl:1138",
      " [6] top-level scope at In[152]:1"
     ]
    }
   ],
   "source": [
    "(Matrix3 = zeros(eltype(M1),size(BCPM2D)))'[vec(BCPM2D')] .= vec(M1')"
   ]
  },
  {
   "cell_type": "code",
   "execution_count": 184,
   "metadata": {},
   "outputs": [
    {
     "data": {
      "text/plain": [
       "10×24 Array{Bool,2}:\n",
       " 1  1  1  1  1  1  0  0  0  0  0  0  0  0  0  0  0  0  0  0  0  0  0  0\n",
       " 0  0  0  1  1  1  1  1  1  0  0  0  0  0  0  0  0  0  0  0  0  0  0  0\n",
       " 0  0  0  0  0  0  0  0  0  1  1  1  1  1  1  0  0  0  0  0  0  0  0  0\n",
       " 0  0  0  0  0  0  0  0  0  0  0  0  1  1  1  1  1  1  0  0  0  0  0  0\n",
       " 0  0  0  0  0  0  0  0  0  0  0  0  0  0  0  0  0  0  1  1  1  1  1  1\n",
       " 1  1  1  0  0  0  0  0  0  1  1  1  0  0  0  0  0  0  0  0  0  0  0  0\n",
       " 0  0  0  0  0  0  0  0  0  1  1  1  0  0  0  0  0  0  1  1  1  0  0  0\n",
       " 0  0  0  1  1  1  0  0  0  0  0  0  1  1  1  0  0  0  0  0  0  0  0  0\n",
       " 0  0  0  0  0  0  0  0  0  0  0  0  1  1  1  0  0  0  0  0  0  1  1  1\n",
       " 0  0  0  0  0  0  1  1  1  0  0  0  0  0  0  1  1  1  0  0  0  0  0  0"
      ]
     },
     "execution_count": 184,
     "metadata": {},
     "output_type": "execute_result"
    }
   ],
   "source": [
    "BCPM2D"
   ]
  },
  {
   "cell_type": "code",
   "execution_count": 158,
   "metadata": {
    "scrolled": true
   },
   "outputs": [
    {
     "data": {
      "text/plain": [
       "240-element Array{Int64,1}:\n",
       " 1\n",
       " 0\n",
       " 0\n",
       " 0\n",
       " 0\n",
       " 1\n",
       " 0\n",
       " 0\n",
       " 0\n",
       " 0\n",
       " 1\n",
       " 0\n",
       " 0\n",
       " ⋮\n",
       " 1\n",
       " 0\n",
       " 0\n",
       " 0\n",
       " 0\n",
       " 0\n",
       " 1\n",
       " 0\n",
       " 0\n",
       " 0\n",
       " 1\n",
       " 0"
      ]
     },
     "execution_count": 158,
     "metadata": {},
     "output_type": "execute_result"
    }
   ],
   "source": [
    "collect(Iterators.flatten(BCPM2D))"
   ]
  },
  {
   "cell_type": "code",
   "execution_count": 191,
   "metadata": {},
   "outputs": [
    {
     "ename": "BoundsError",
     "evalue": "BoundsError: attempt to access 10×6 Array{Float64,2} at index [Base.LogicalIndex(Bool[0 0 0 0 0 0 1 1 1 1 1 1 1 1 1 1 1 1 1 1 1 1 1 1; 1 1 1 0 0 0 0 0 0 1 1 1 1 1 1 1 1 1 1 1 1 1 1 1; 1 1 1 1 1 1 1 1 1 0 0 0 0 0 0 1 1 1 1 1 1 1 1 1; 1 1 1 1 1 1 1 1 1 1 1 1 0 0 0 0 0 0 1 1 1 1 1 1; 1 1 1 1 1 1 1 1 1 1 1 1 1 1 1 1 1 1 0 0 0 0 0 0; 0 0 0 1 1 1 1 1 1 0 0 0 1 1 1 1 1 1 1 1 1 1 1 1; 1 1 1 1 1 1 1 1 1 0 0 0 1 1 1 1 1 1 0 0 0 1 1 1; 1 1 1 0 0 0 1 1 1 1 1 1 0 0 0 1 1 1 1 1 1 1 1 1; 1 1 1 1 1 1 1 1 1 1 1 1 0 0 0 1 1 1 1 1 1 0 0 0; 1 1 1 1 1 1 0 0 0 1 1 1 1 1 1 0 0 0 1 1 1 1 1 1])]",
     "output_type": "error",
     "traceback": [
      "BoundsError: attempt to access 10×6 Array{Float64,2} at index [Base.LogicalIndex(Bool[0 0 0 0 0 0 1 1 1 1 1 1 1 1 1 1 1 1 1 1 1 1 1 1; 1 1 1 0 0 0 0 0 0 1 1 1 1 1 1 1 1 1 1 1 1 1 1 1; 1 1 1 1 1 1 1 1 1 0 0 0 0 0 0 1 1 1 1 1 1 1 1 1; 1 1 1 1 1 1 1 1 1 1 1 1 0 0 0 0 0 0 1 1 1 1 1 1; 1 1 1 1 1 1 1 1 1 1 1 1 1 1 1 1 1 1 0 0 0 0 0 0; 0 0 0 1 1 1 1 1 1 0 0 0 1 1 1 1 1 1 1 1 1 1 1 1; 1 1 1 1 1 1 1 1 1 0 0 0 1 1 1 1 1 1 0 0 0 1 1 1; 1 1 1 0 0 0 1 1 1 1 1 1 0 0 0 1 1 1 1 1 1 1 1 1; 1 1 1 1 1 1 1 1 1 1 1 1 0 0 0 1 1 1 1 1 1 0 0 0; 1 1 1 1 1 1 0 0 0 1 1 1 1 1 1 0 0 0 1 1 1 1 1 1])]",
      "",
      "Stacktrace:",
      " [1] throw_boundserror(::Array{Float64,2}, ::Tuple{Base.LogicalIndex{Int64,BitArray{2}}}) at .\\abstractarray.jl:537",
      " [2] checkbounds at .\\abstractarray.jl:502 [inlined]",
      " [3] view at .\\subarray.jl:163 [inlined]",
      " [4] maybeview at .\\views.jl:124 [inlined]",
      " [5] dotview(::Array{Float64,2}, ::BitArray{2}) at .\\broadcast.jl:1138",
      " [6] top-level scope at In[191]:3"
     ]
    }
   ],
   "source": [
    "\n",
    "Matrix1 = rand(10, 6)\n",
    "Matrix1[.!BCPM2D] .= 0;"
   ]
  },
  {
   "cell_type": "code",
   "execution_count": 195,
   "metadata": {},
   "outputs": [
    {
     "data": {
      "text/plain": [
       "4×12 Array{Float64,2}:\n",
       " 0.0  0.763986  0.571668  0.303257  0.0       …  0.570615  0.0       0.958345\n",
       " 0.0  0.931403  0.432791  0.573359  0.385906     0.0       0.0       0.0\n",
       " 0.0  0.0       0.581107  0.0       0.0          0.0       0.495323  0.0\n",
       " 0.0  0.60281   0.201176  0.0       0.981257     0.0       0.749592  0.0"
      ]
     },
     "execution_count": 195,
     "metadata": {},
     "output_type": "execute_result"
    }
   ],
   "source": [
    "Matrix1 = rand(4, 12)\n",
    "Matrix2 = rand(false:true, 4, 12)\n",
    "Matrix1[.!Matrix2] .= 0;\n",
    "\n",
    "Matrix1"
   ]
  },
  {
   "cell_type": "code",
   "execution_count": 197,
   "metadata": {},
   "outputs": [
    {
     "ename": "DimensionMismatch",
     "evalue": "DimensionMismatch(\"dimensions must match: a has dims (Base.OneTo(10), Base.OneTo(6)), b has dims (Base.OneTo(10), Base.OneTo(24)), mismatch at 2\")",
     "output_type": "error",
     "traceback": [
      "DimensionMismatch(\"dimensions must match: a has dims (Base.OneTo(10), Base.OneTo(6)), b has dims (Base.OneTo(10), Base.OneTo(24)), mismatch at 2\")",
      "",
      "Stacktrace:",
      " [1] promote_shape at .\\indices.jl:178 [inlined]",
      " [2] _promote_shape at .\\iterators.jl:318 [inlined]",
      " [3] axes at .\\iterators.jl:317 [inlined]",
      " [4] _array_for(::Type{Float64}, ::Base.Iterators.Zip{Tuple{Array{Float64,2},Array{Bool,2}}}, ::Base.HasShape{2}) at .\\array.jl:657",
      " [5] collect(::Base.Generator{Base.Iterators.Zip{Tuple{Array{Float64,2},Array{Bool,2}}},Base.var\"#3#4\"{var\"#5#6\"}}) at .\\array.jl:670",
      " [6] map(::Function, ::Array{Float64,2}, ::Array{Bool,2}) at .\\abstractarray.jl:2154",
      " [7] top-level scope at In[197]:1"
     ]
    }
   ],
   "source": [
    "map((m1, m2) -> m2 ? m1 : 0, M1, BCPM2D)"
   ]
  },
  {
   "cell_type": "code",
   "execution_count": 180,
   "metadata": {},
   "outputs": [
    {
     "ename": "BoundsError",
     "evalue": "BoundsError: attempt to access 10×6 Array{Float64,2} at index [Base.LogicalIndex(Bool[0 0 0 0 0 0 1 1 1 1 1 1 1 1 1 1 1 1 1 1 1 1 1 1; 1 1 1 0 0 0 0 0 0 1 1 1 1 1 1 1 1 1 1 1 1 1 1 1; 1 1 1 1 1 1 1 1 1 0 0 0 0 0 0 1 1 1 1 1 1 1 1 1; 1 1 1 1 1 1 1 1 1 1 1 1 0 0 0 0 0 0 1 1 1 1 1 1; 1 1 1 1 1 1 1 1 1 1 1 1 1 1 1 1 1 1 0 0 0 0 0 0; 0 0 0 1 1 1 1 1 1 0 0 0 1 1 1 1 1 1 1 1 1 1 1 1; 1 1 1 1 1 1 1 1 1 0 0 0 1 1 1 1 1 1 0 0 0 1 1 1; 1 1 1 0 0 0 1 1 1 1 1 1 0 0 0 1 1 1 1 1 1 1 1 1; 1 1 1 1 1 1 1 1 1 1 1 1 0 0 0 1 1 1 1 1 1 0 0 0; 1 1 1 1 1 1 0 0 0 1 1 1 1 1 1 0 0 0 1 1 1 1 1 1])]",
     "output_type": "error",
     "traceback": [
      "BoundsError: attempt to access 10×6 Array{Float64,2} at index [Base.LogicalIndex(Bool[0 0 0 0 0 0 1 1 1 1 1 1 1 1 1 1 1 1 1 1 1 1 1 1; 1 1 1 0 0 0 0 0 0 1 1 1 1 1 1 1 1 1 1 1 1 1 1 1; 1 1 1 1 1 1 1 1 1 0 0 0 0 0 0 1 1 1 1 1 1 1 1 1; 1 1 1 1 1 1 1 1 1 1 1 1 0 0 0 0 0 0 1 1 1 1 1 1; 1 1 1 1 1 1 1 1 1 1 1 1 1 1 1 1 1 1 0 0 0 0 0 0; 0 0 0 1 1 1 1 1 1 0 0 0 1 1 1 1 1 1 1 1 1 1 1 1; 1 1 1 1 1 1 1 1 1 0 0 0 1 1 1 1 1 1 0 0 0 1 1 1; 1 1 1 0 0 0 1 1 1 1 1 1 0 0 0 1 1 1 1 1 1 1 1 1; 1 1 1 1 1 1 1 1 1 1 1 1 0 0 0 1 1 1 1 1 1 0 0 0; 1 1 1 1 1 1 0 0 0 1 1 1 1 1 1 0 0 0 1 1 1 1 1 1])]",
      "",
      "Stacktrace:",
      " [1] throw_boundserror(::Array{Float64,2}, ::Tuple{Base.LogicalIndex{Int64,BitArray{2}}}) at .\\abstractarray.jl:537",
      " [2] checkbounds at .\\abstractarray.jl:502 [inlined]",
      " [3] view at .\\subarray.jl:163 [inlined]",
      " [4] maybeview at .\\views.jl:124 [inlined]",
      " [5] dotview(::Array{Float64,2}, ::BitArray{2}) at .\\broadcast.jl:1138",
      " [6] top-level scope at In[180]:1"
     ]
    }
   ],
   "source": [
    "M1[.!BCPM2D] .= 0;"
   ]
  },
  {
   "cell_type": "code",
   "execution_count": 173,
   "metadata": {},
   "outputs": [
    {
     "data": {
      "text/plain": [
       "10×24 Array{Bool,2}:\n",
       " 1  1  1  1  1  1  0  0  0  0  0  0  0  0  0  0  0  0  0  0  0  0  0  0\n",
       " 0  0  0  1  1  1  1  1  1  0  0  0  0  0  0  0  0  0  0  0  0  0  0  0\n",
       " 0  0  0  0  0  0  0  0  0  1  1  1  1  1  1  0  0  0  0  0  0  0  0  0\n",
       " 0  0  0  0  0  0  0  0  0  0  0  0  1  1  1  1  1  1  0  0  0  0  0  0\n",
       " 0  0  0  0  0  0  0  0  0  0  0  0  0  0  0  0  0  0  1  1  1  1  1  1\n",
       " 1  1  1  0  0  0  0  0  0  1  1  1  0  0  0  0  0  0  0  0  0  0  0  0\n",
       " 0  0  0  0  0  0  0  0  0  1  1  1  0  0  0  0  0  0  1  1  1  0  0  0\n",
       " 0  0  0  1  1  1  0  0  0  0  0  0  1  1  1  0  0  0  0  0  0  0  0  0\n",
       " 0  0  0  0  0  0  0  0  0  0  0  0  1  1  1  0  0  0  0  0  0  1  1  1\n",
       " 0  0  0  0  0  0  1  1  1  0  0  0  0  0  0  1  1  1  0  0  0  0  0  0"
      ]
     },
     "execution_count": 173,
     "metadata": {},
     "output_type": "execute_result"
    }
   ],
   "source": [
    "BCPM2D"
   ]
  },
  {
   "cell_type": "code",
   "execution_count": 203,
   "metadata": {},
   "outputs": [
    {
     "data": {
      "text/plain": [
       "10×24 Array{Float64,2}:\n",
       " 0.24863    0.904522  0.641744  0.269998  …  0.0       0.0       0.0\n",
       " 0.0        0.0       0.0       0.816989     0.0       0.0       0.0\n",
       " 0.0        0.0       0.0       0.0          0.0       0.0       0.0\n",
       " 0.0        0.0       0.0       0.0          0.0       0.0       0.0\n",
       " 0.0        0.0       0.0       0.0          0.824856  0.324141  0.823483\n",
       " 0.0845306  0.445171  0.238602  0.0       …  0.0       0.0       0.0\n",
       " 0.0        0.0       0.0       0.0          0.0       0.0       0.0\n",
       " 0.0        0.0       0.0       0.474913     0.0       0.0       0.0\n",
       " 0.0        0.0       0.0       0.0          0.369279  0.773794  0.0619065\n",
       " 0.0        0.0       0.0       0.0          0.0       0.0       0.0"
      ]
     },
     "execution_count": 203,
     "metadata": {},
     "output_type": "execute_result"
    }
   ],
   "source": [
    "Matrix1 = M1\n",
    "Matrix2 = BCPM2D\n",
    "(Matrix3 = zeros(eltype(Matrix1),size(Matrix2)))'[Matrix2'[:]] .= Matrix1'[:]\n",
    "Matrix3"
   ]
  },
  {
   "cell_type": "code",
   "execution_count": 215,
   "metadata": {},
   "outputs": [
    {
     "data": {
      "text/plain": [
       "1×24 Array{Float64,2}:\n",
       " 0.33316  1.34969  0.880346  1.5619  1.6018  …  1.19413  1.09794  0.885389"
      ]
     },
     "execution_count": 215,
     "metadata": {},
     "output_type": "execute_result"
    }
   ],
   "source": [
    "test4 = sum(Matrix3, dims=1)"
   ]
  },
  {
   "cell_type": "code",
   "execution_count": 216,
   "metadata": {},
   "outputs": [
    {
     "data": {
      "text/plain": [
       "24×1 Array{Float64,2}:\n",
       " 0.33316038167753725\n",
       " 1.3496928386015075\n",
       " 0.8803461296770465\n",
       " 1.5618991627262222\n",
       " 1.6018041997988357\n",
       " 1.3384797920553841\n",
       " 0.974586352680928\n",
       " 1.0947857542666322\n",
       " 0.3972895557820868\n",
       " 1.5815018079785401\n",
       " 0.6075701185480031\n",
       " 1.1669750810496602\n",
       " 2.9154024484170407\n",
       " 1.6475240421942345\n",
       " 2.2701001777821137\n",
       " 0.426745334354542\n",
       " 0.7558395165446383\n",
       " 1.2990413956806615\n",
       " 1.413508367557471\n",
       " 1.6610886243234202\n",
       " 0.5620960151519634\n",
       " 1.1941349023495187\n",
       " 1.0979356743946431\n",
       " 0.8853893855199853"
      ]
     },
     "execution_count": 216,
     "metadata": {},
     "output_type": "execute_result"
    }
   ],
   "source": [
    "reshape(test4, 24,1)"
   ]
  },
  {
   "cell_type": "code",
   "execution_count": null,
   "metadata": {},
   "outputs": [],
   "source": []
  }
 ],
 "metadata": {
  "hide_input": false,
  "kernelspec": {
   "display_name": "Julia 1.5.2",
   "language": "julia",
   "name": "julia-1.5"
  },
  "language_info": {
   "file_extension": ".jl",
   "mimetype": "application/julia",
   "name": "julia",
   "version": "1.5.2"
  },
  "toc": {
   "base_numbering": 1,
   "nav_menu": {},
   "number_sections": true,
   "sideBar": true,
   "skip_h1_title": false,
   "title_cell": "Table of Contents",
   "title_sidebar": "Contents",
   "toc_cell": false,
   "toc_position": {},
   "toc_section_display": true,
   "toc_window_display": false
  },
  "varInspector": {
   "cols": {
    "lenName": 16,
    "lenType": 16,
    "lenVar": 40
   },
   "kernels_config": {
    "python": {
     "delete_cmd_postfix": "",
     "delete_cmd_prefix": "del ",
     "library": "var_list.py",
     "varRefreshCmd": "print(var_dic_list())"
    },
    "r": {
     "delete_cmd_postfix": ") ",
     "delete_cmd_prefix": "rm(",
     "library": "var_list.r",
     "varRefreshCmd": "cat(var_dic_list()) "
    }
   },
   "types_to_exclude": [
    "module",
    "function",
    "builtin_function_or_method",
    "instance",
    "_Feature"
   ],
   "window_display": false
  }
 },
 "nbformat": 4,
 "nbformat_minor": 2
}
